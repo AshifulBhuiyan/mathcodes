{
 "cells": [
  {
   "cell_type": "code",
   "execution_count": null,
   "metadata": {},
   "outputs": [],
   "source": [
    "import numpy as np\n",
    "import pandas as pd\n"
   ]
  },
  {
   "cell_type": "markdown",
   "metadata": {},
   "source": [
    "# Introduction to Pandas\n",
    "\n",
    "In this chapter, we will introduce you to the basics of Pandas, a powerful Python library for data manipulation and analysis.\n",
    "\n",
    "## What is Pandas?\n",
    "\n",
    "Pandas is an open-source data manipulation and analysis library for Python. It provides data structures and functions for working with structured data, such as spreadsheets, SQL tables, and time-series data. Some of its key features include:\n",
    "\n",
    "- **DataFrame:** A two-dimensional, size-mutable, and heterogeneous tabular data structure, similar to a spreadsheet or SQL table.\n",
    "\n",
    "- **Series:** A one-dimensional labeled array capable of holding data of any type.\n",
    "\n",
    "- **Data Cleaning:** Pandas allows you to clean, transform, and preprocess data efficiently.\n",
    "\n",
    "- **Data Analysis:** It provides powerful tools for data analysis, including grouping, aggregation, and statistical analysis.\n",
    "\n",
    "- **Data Visualization:** While Pandas has some basic plotting capabilities, it can be combined with libraries like Matplotlib and Seaborn for more advanced visualizations.\n"
   ]
  },
  {
   "cell_type": "markdown",
   "metadata": {},
   "source": [
    "# Key Data Structures\n",
    "## DataFrame\n",
    "A DataFrame is the primary data structure in Pandas. It is a two-dimensional, size-mutable, and heterogeneous tabular data structure with labeled axes (rows and columns). You can think of it as a spreadsheet or a SQL table.\n",
    "\n",
    "## Series\n",
    "A Series is a one-dimensional labeled array capable of holding data of any type. It is like a single column in a DataFrame. Series can be used to represent a single variable or a single row or column of a DataFrame.\n",
    "\n",
    "## Creating DataFrames and Series\n",
    "You can create DataFrames and Series from various data sources, including:\n",
    "\n",
    "- Lists or NumPy arrays\n",
    "- Dictionaries\n",
    "- CSV files\n",
    "- Excel spreadsheets\n",
    "- SQL databases\n",
    "\n",
    "Let's see some basic examples:"
   ]
  },
  {
   "cell_type": "code",
   "execution_count": null,
   "metadata": {},
   "outputs": [],
   "source": [
    "# Creating a DataFrame from a dictionary\n",
    "data = {'Name': ['Alice', 'Bob', 'Charlie'],\n",
    "        'Age': [25, 30, 35]}\n",
    "df = pd.DataFrame(data)\n",
    "\n",
    "# Creating a Series from a list\n",
    "numbers = [1, 2, 3, 4, 5]\n",
    "series = pd.Series(numbers)"
   ]
  },
  {
   "cell_type": "markdown",
   "metadata": {},
   "source": [
    "Accessing Data\n",
    "You can access data in a DataFrame or Series using various methods:\n",
    "\n",
    "- **Column Selection**: You can select a single column or multiple columns by name."
   ]
  },
  {
   "cell_type": "code",
   "execution_count": null,
   "metadata": {},
   "outputs": [],
   "source": [
    "df['Name']  # Selects the 'Name' column\n",
    "df[['Name', 'Age']]  # Selects both 'Name' and 'Age' columns\n"
   ]
  },
  {
   "cell_type": "markdown",
   "metadata": {},
   "source": [
    "- **Row Selection**: You can select rows based on conditions."
   ]
  },
  {
   "cell_type": "code",
   "execution_count": null,
   "metadata": {},
   "outputs": [],
   "source": [
    "df[df['Age'] > 30]  # Selects rows where 'Age' is greater than 30"
   ]
  },
  {
   "cell_type": "markdown",
   "metadata": {},
   "source": [
    "- **Indexing**: You can use .loc[] and .iloc[] for label-based and integer-based indexing, respectively."
   ]
  },
  {
   "cell_type": "code",
   "execution_count": null,
   "metadata": {},
   "outputs": [],
   "source": [
    "df.loc[0]  # Selects the first row by label\n",
    "df.iloc[0]  # Selects the first row by integer index"
   ]
  },
  {
   "cell_type": "markdown",
   "metadata": {},
   "source": [
    "In the next chapter, we will dive deeper into data manipulation and analysis using Pandas.\n",
    "\n",
    "Continue your journey with Pandas in the next part: Data Manipulation with Pandas."
   ]
  }
 ],
 "metadata": {
  "language_info": {
   "name": "python"
  },
  "orig_nbformat": 4
 },
 "nbformat": 4,
 "nbformat_minor": 2
}
