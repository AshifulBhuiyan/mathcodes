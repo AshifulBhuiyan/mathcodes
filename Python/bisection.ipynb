{
 "cells": [
  {
   "cell_type": "code",
   "execution_count": 24,
   "metadata": {},
   "outputs": [],
   "source": [
    "import mercury as mr\n",
    "import numpy as np\n",
    "import matplotlib.pyplot as plt\n",
    "import sympy as sp\n",
    "%matplotlib inline"
   ]
  },
  {
   "cell_type": "code",
   "execution_count": 39,
   "metadata": {},
   "outputs": [
    {
     "data": {
      "application/mercury+json": {
       "code_uid": "Text.0.40.15.1-rand8e006500",
       "disabled": false,
       "hidden": false,
       "label": "what is the function you want to try finding the root of?",
       "model_id": "822c2bdbe8ad4b97b3a57845a3564623",
       "rows": 1,
       "url_key": "",
       "value": "sin(x)+0.5",
       "widget": "Text"
      },
      "application/vnd.jupyter.widget-view+json": {
       "model_id": "822c2bdbe8ad4b97b3a57845a3564623",
       "version_major": 2,
       "version_minor": 0
      },
      "text/plain": [
       "mercury.Text"
      ]
     },
     "metadata": {},
     "output_type": "display_data"
    },
    {
     "data": {
      "application/mercury+json": {
       "code_uid": "Numeric.0.40.26.3-rand4e99f7a2",
       "disabled": false,
       "hidden": false,
       "label": "what is the minimum value of the interval?",
       "max": 3.402823669209385e+38,
       "min": -3.402823669209385e+38,
       "model_id": "179fa825675844df943ee51e46ccdf0d",
       "step": 1,
       "url_key": "",
       "value": -1,
       "widget": "Numeric"
      },
      "application/vnd.jupyter.widget-view+json": {
       "model_id": "179fa825675844df943ee51e46ccdf0d",
       "version_major": 2,
       "version_minor": 0
      },
      "text/plain": [
       "mercury.Numeric"
      ]
     },
     "metadata": {},
     "output_type": "display_data"
    },
    {
     "data": {
      "application/mercury+json": {
       "code_uid": "Numeric.0.40.26.4-rand273e3633",
       "disabled": false,
       "hidden": false,
       "label": "what is the max value of interval?",
       "max": 3.402823669209385e+38,
       "min": -3.402823669209385e+38,
       "model_id": "524ee3d06ec448cb8d90d819f7139f42",
       "step": 1,
       "url_key": "",
       "value": 2,
       "widget": "Numeric"
      },
      "application/vnd.jupyter.widget-view+json": {
       "model_id": "524ee3d06ec448cb8d90d819f7139f42",
       "version_major": 2,
       "version_minor": 0
      },
      "text/plain": [
       "mercury.Numeric"
      ]
     },
     "metadata": {},
     "output_type": "display_data"
    },
    {
     "data": {
      "application/mercury+json": {
       "allow_download": true,
       "code_uid": "App.0.40.25.7-rand0fdbeb5a",
       "continuous_update": true,
       "description": "",
       "full_screen": true,
       "model_id": "mercury-app",
       "notify": "{}",
       "output": "app",
       "schedule": "",
       "show_code": true,
       "show_prompt": false,
       "show_sidebar": true,
       "static_notebook": false,
       "stop_on_error": false,
       "title": "",
       "widget": "App"
      },
      "text/html": [
       "<h3>Mercury Application</h3><small>This output won't appear in the web app.</small>"
      ],
      "text/plain": [
       "mercury.App"
      ]
     },
     "metadata": {},
     "output_type": "display_data"
    }
   ],
   "source": [
    "function = mr.Text(value=\"sin(x)+0.5\", label=\"what is the function you want to try finding the root of?\")\n",
    "#print(f\"Hello {function.value}\")\n",
    "mini = mr.Numeric(value=-1, min=-2**128, max=2**128, label=\"what is the minimum value of the interval?\")\n",
    "maxi = mr.Numeric(value=2, min=-2**128, max=2**128, label=\"what is the max value of interval?\")\n",
    "\n",
    "# set application properites with App object\n",
    "app = mr.App(show_code = True)\n"
   ]
  },
  {
   "cell_type": "markdown",
   "metadata": {},
   "source": [
    "Consider one of the most basic problems:\n",
    "\n",
    "Finding the root of a function, i.e: $f(x) = 0$ .\n",
    "\n",
    "## Technique:\n",
    "\n",
    "We start with a boundary $[a,b]$ and then hope that there exists a point $p$ in that boundary where $f(p) = 0$. We half the end points of the boundary depending on if $f(a_i) \\text{ or } f(b_i)$ is negative or positive, until we reach the point $p$\n",
    "\n",
    "## Example\n",
    "Suppose we want to look for the zero for $f(x)= \\sin(x) + 0.5$ between $[-1,2]$. "
   ]
  },
  {
   "cell_type": "code",
   "execution_count": 43,
   "metadata": {},
   "outputs": [
    {
     "name": "stdout",
     "output_type": "stream",
     "text": [
      "sin(x)+0.5\n",
      "[-1.0, 2.0]\n"
     ]
    }
   ],
   "source": [
    "x = sp.symbols('x')\n",
    "print(function.value)\n",
    "parsed_expression = sp.sympify(function.value)\n",
    "# Create a lambda function for numerical evaluation\n",
    "f = sp.lambdify(x, parsed_expression, 'numpy')\n",
    "\n",
    "interval = [mini.value,maxi.value]\n",
    "\n"
   ]
  },
  {
   "cell_type": "code",
   "execution_count": 71,
   "metadata": {},
   "outputs": [
    {
     "name": "stdout",
     "output_type": "stream",
     "text": [
      "26\n"
     ]
    }
   ],
   "source": [
    "def validate_interval(f,x0,x1):\n",
    "    return f(x0)*f(x1) < 0\n",
    "\n",
    "\n",
    "def bisection(f, interval, n, tol):\n",
    "    x0, x1 = interval[0], interval[1] #extract interval \n",
    "    if not validate_interval(f, x0, x1): #check interval can be solved for roots\n",
    "        return \"Not valid interval\"\n",
    "\n",
    "    counter = 1\n",
    "    while True:\n",
    "        p = x0 + ((x1-x0)/2)\n",
    "        y = f(p)\n",
    "        if -tol < y < tol:\n",
    "            print(counter)\n",
    "            return p\n",
    "        if validate_interval(f,x0,p):\n",
    "            x1 = p\n",
    "        else:\n",
    "            x0 = p\n",
    "        counter += 1\n",
    "\n",
    "\n",
    "\n",
    "root=bisection(f,interval, 50, 0.000000001) "
   ]
  },
  {
   "cell_type": "code",
   "execution_count": 48,
   "metadata": {},
   "outputs": [
    {
     "data": {
      "application/mercury+json": {
       "code_uid": "Numeric.0.40.26.1-rand73ffb943",
       "disabled": false,
       "hidden": false,
       "label": "what is the minimum value of the interval?",
       "max": 3.402823669209385e+38,
       "min": -3.402823669209385e+38,
       "model_id": "f3839800640e4a468f5bf8f3dc33009b",
       "step": 1,
       "url_key": "",
       "value": -1.5707963267948966,
       "widget": "Numeric"
      },
      "application/vnd.jupyter.widget-view+json": {
       "model_id": "f3839800640e4a468f5bf8f3dc33009b",
       "version_major": 2,
       "version_minor": 0
      },
      "text/plain": [
       "mercury.Numeric"
      ]
     },
     "metadata": {},
     "output_type": "display_data"
    },
    {
     "data": {
      "application/mercury+json": {
       "code_uid": "Numeric.0.40.26.2-rand311addc0",
       "disabled": false,
       "hidden": false,
       "label": "what is the max value of interval?",
       "max": 3.402823669209385e+38,
       "min": -3.402823669209385e+38,
       "model_id": "d84609025b6f41ca9c5cc48fcc7472c9",
       "step": 1,
       "url_key": "",
       "value": 1.5707963267948966,
       "widget": "Numeric"
      },
      "application/vnd.jupyter.widget-view+json": {
       "model_id": "d84609025b6f41ca9c5cc48fcc7472c9",
       "version_major": 2,
       "version_minor": 0
      },
      "text/plain": [
       "mercury.Numeric"
      ]
     },
     "metadata": {},
     "output_type": "display_data"
    }
   ],
   "source": [
    "mini = mr.Numeric(value=-np.pi/2, min=-2**128, max=2**128, label=\"what is the minimum value of the interval?\")\n",
    "maxi = mr.Numeric(value=np.pi/2, min=-2**128, max=2**128, label=\"what is the max value of interval?\")\n"
   ]
  },
  {
   "cell_type": "code",
   "execution_count": 73,
   "metadata": {},
   "outputs": [
    {
     "data": {
      "image/png": "[encoded data removed]",
      "text/plain": [
       "<Figure size 640x480 with 1 Axes>"
      ]
     },
     "metadata": {},
     "output_type": "display_data"
    }
   ],
   "source": [
    "def graph(x):\n",
    "    #need function\n",
    "    #need tangents\n",
    "    #root\n",
    "  \n",
    "    y=f(x)\n",
    "   \n",
    "    plt.plot(x,y)\n",
    "    plt.plot(root, f(root), marker='x', markersize=3, color='red', label='zero')\n",
    "    # Add horizontal and vertical lines at the zero points\n",
    "    plt.ylabel(function.value)\n",
    "    plt.xlabel('x')\n",
    "    plt.axis('tight')\n",
    "    plt.grid(True, linestyle=\"--\", alpha=0.6)\n",
    "\n",
    "    plt.axhline(0, color='black', linestyle='-', linewidth=1)\n",
    "    plt.axvline(0, color='black', linestyle='-', linewidth=1)\n",
    "\n",
    "    plt.show()\n",
    "   \n",
    "graph(np.arange(mini.value,maxi.value,np.pi/32))"
   ]
  },
  {
   "cell_type": "code",
   "execution_count": null,
   "metadata": {},
   "outputs": [],
   "source": []
  }
 ],
 "metadata": {
  "kernelspec": {
   "display_name": "Python 3",
   "language": "python",
   "name": "python3"
  },
  "language_info": {
   "codemirror_mode": {
    "name": "ipython",
    "version": 3
   },
   "file_extension": ".py",
   "mimetype": "text/x-python",
   "name": "python",
   "nbconvert_exporter": "python",
   "pygments_lexer": "ipython3",
   "version": "3.10.11"
  },
  "orig_nbformat": 4
 },
 "nbformat": 4,
 "nbformat_minor": 2
}
