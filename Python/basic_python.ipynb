{
 "cells": [
  {
   "cell_type": "markdown",
   "metadata": {},
   "source": [
    "## Introduction to NumPy\n",
    "\n",
    "NumPy (Numerical Python) is a fundamental package for scientific computing with Python. It provides support for arrays, matrices, and a wide range of mathematical functions to operate on these data structures. In this notebook, we will cover some basic NumPy commands and concepts.\n",
    "\n",
    "### Importing NumPy\n",
    "\n",
    "To get started, we need to import the NumPy library. Typically, it's imported with the alias `np` for convenience:\n"
   ]
  },
  {
   "cell_type": "code",
   "execution_count": 1,
   "metadata": {},
   "outputs": [],
   "source": [
    "import numpy as np"
   ]
  },
  {
   "cell_type": "markdown",
   "metadata": {},
   "source": [
    "Creating NumPy Arrays\n",
    "1. Creating arrays from Python lists\n",
    "You can create a NumPy array from a Python list:"
   ]
  },
  {
   "cell_type": "code",
   "execution_count": 2,
   "metadata": {},
   "outputs": [
    {
     "name": "stdout",
     "output_type": "stream",
     "text": [
      "1D Array:\n",
      "[1 2 3 4 5]\n",
      "2D Array:\n",
      "[[1 2 3]\n",
      " [4 5 6]]\n"
     ]
    }
   ],
   "source": [
    "# Creating a 1D array\n",
    "arr1d = np.array([1, 2, 3, 4, 5])\n",
    "\n",
    "# Creating a 2D array (matrix)\n",
    "arr2d = np.array([[1, 2, 3], [4, 5, 6]])\n",
    "\n",
    "# Display the arrays\n",
    "print(\"1D Array:\")\n",
    "print(arr1d)\n",
    "print(\"2D Array:\")\n",
    "print(arr2d)"
   ]
  },
  {
   "cell_type": "markdown",
   "metadata": {},
   "source": [
    "2. Creating arrays from Python lists\n"
   ]
  },
  {
   "cell_type": "code",
   "execution_count": 3,
   "metadata": {},
   "outputs": [
    {
     "name": "stdout",
     "output_type": "stream",
     "text": [
      "Zeros Array:\n",
      "[[0. 0. 0.]\n",
      " [0. 0. 0.]\n",
      " [0. 0. 0.]]\n",
      "Ones Array:\n",
      "[[1. 1. 1. 1.]\n",
      " [1. 1. 1. 1.]]\n",
      "Range Array:\n",
      "[0 2 4 6 8]\n",
      "Linspace Array:\n",
      "[0.   0.25 0.5  0.75 1.  ]\n"
     ]
    }
   ],
   "source": [
    "# Creating an array of zeros\n",
    "zeros_array = np.zeros((3, 3))\n",
    "\n",
    "# Creating an array of ones\n",
    "ones_array = np.ones((2, 4))\n",
    "\n",
    "# Creating an array of evenly spaced values\n",
    "range_array = np.arange(0, 10, 2)  # Start, Stop (exclusive), Step\n",
    "\n",
    "# Creating an array of evenly spaced values with a specific number of elements\n",
    "linspace_array = np.linspace(0, 1, 5)  # Start, Stop, Number of Elements\n",
    "\n",
    "# Display the arrays\n",
    "print(\"Zeros Array:\")\n",
    "print(zeros_array)\n",
    "print(\"Ones Array:\")\n",
    "print(ones_array)\n",
    "print(\"Range Array:\")\n",
    "print(range_array)\n",
    "print(\"Linspace Array:\")\n",
    "print(linspace_array)"
   ]
  },
  {
   "cell_type": "markdown",
   "metadata": {},
   "source": [
    "## Array Attributes and Operations\n",
    "NumPy arrays come with several attributes, such as `shape`, `dtype`, and various mathematical operations:"
   ]
  },
  {
   "cell_type": "code",
   "execution_count": 4,
   "metadata": {},
   "outputs": [
    {
     "name": "stdout",
     "output_type": "stream",
     "text": [
      "Shape: (2, 3)\n",
      "Data Type: int64\n",
      "Sum of arr1d: [ 2  4  6  8 10]\n",
      "Product of arr1d: [ 2  4  6  8 10]\n"
     ]
    }
   ],
   "source": [
    "# Attributes of an array\n",
    "shape = arr2d.shape\n",
    "dtype = arr2d.dtype\n",
    "\n",
    "# Mathematical operations\n",
    "sum_result = arr1d + arr1d\n",
    "product_result = arr1d * 2\n",
    "\n",
    "# Display the attributes and results\n",
    "print(\"Shape:\", shape)\n",
    "print(\"Data Type:\", dtype)\n",
    "print(\"Sum of arr1d:\", sum_result)\n",
    "print(\"Product of arr1d:\", product_result)"
   ]
  },
  {
   "cell_type": "markdown",
   "metadata": {},
   "source": []
  }
 ],
 "metadata": {
  "kernelspec": {
   "display_name": "Python 3",
   "language": "python",
   "name": "python3"
  },
  "language_info": {
   "codemirror_mode": {
    "name": "ipython",
    "version": 3
   },
   "file_extension": ".py",
   "mimetype": "text/x-python",
   "name": "python",
   "nbconvert_exporter": "python",
   "pygments_lexer": "ipython3",
   "version": "3.10.13"
  },
  "orig_nbformat": 4
 },
 "nbformat": 4,
 "nbformat_minor": 2
}
