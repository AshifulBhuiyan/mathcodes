{
 "cells": [
  {
   "cell_type": "code",
   "execution_count": null,
   "metadata": {},
   "outputs": [],
   "source": [
    "\n",
    "import numpy as np\n",
    "import matplotlib.pyplot as plt\n",
    "%matplotlib inline"
   ]
  },
  {
   "cell_type": "code",
   "execution_count": null,
   "metadata": {},
   "outputs": [],
   "source": [
    "def f(x): \n",
    "    return np.sin(x)+0.5\n",
    "\n",
    "def validate_interval(f,x0,x1):\n",
    "    return f(x0)*f(x1) < 0\n",
    "\n",
    "\n",
    "def bisection(f, interval, n, tol):\n",
    "    x0, x1 = interval[0], interval[1] #extract interval \n",
    "    if not validate_interval(f, x0, x1): #check interval can be solved for roots\n",
    "        return \"Not valid interval\"\n",
    "\n",
    "    counter = 1\n",
    "    while True:\n",
    "        p = x0 + ((x1-x0)/2)\n",
    "        y = f(p)\n",
    "        if -tol < y < tol:\n",
    "            print(counter)\n",
    "            return p\n",
    "        if validate_interval(f,x0,p):\n",
    "            x1 = p\n",
    "        else:\n",
    "            x0 = p\n",
    "        counter += 1\n",
    "\n",
    "\n",
    "\n",
    "bisection(f,[-1,2], 50, 0.000000001) "
   ]
  },
  {
   "cell_type": "code",
   "execution_count": null,
   "metadata": {},
   "outputs": [],
   "source": [
    "def graph(x):\n",
    "    #need function\n",
    "    #need tangents\n",
    "    #root\n",
    "    fig, ax = plt.subplots(figsize=(10, 10))\n",
    "    y=f(x)\n",
    "    plt.plot(x,y)\n",
    "   \n",
    "    plt.ylabel('some numbers')\n",
    "    plt.axis('tight')\n",
    "    plt.grid(True)\n",
    "    plt.show()\n",
    "    ax.spines['top'].set_visible(False)\n",
    "    ax.spines['right'].set_visible(False)\n",
    "\n",
    "graph(np.arange(-np.pi,np.pi,np.pi/32))"
   ]
  }
 ],
 "metadata": {
  "language_info": {
   "name": "python"
  },
  "orig_nbformat": 4
 },
 "nbformat": 4,
 "nbformat_minor": 2
}
