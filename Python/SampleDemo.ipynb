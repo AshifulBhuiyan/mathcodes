{
 "cells": [
  {
   "cell_type": "code",
   "execution_count": null,
   "metadata": {},
   "outputs": [],
   "source": [
    "import mercury as mr\n",
    " \n",
    "# set Application parameters\n",
    "app = mr.App(title=\"\",\n",
    "        description=\"\",\n",
    "        show_code=False,\n",
    "        show_prompt=False,\n",
    "        continuous_update=True,\n",
    "        static_notebook=False,\n",
    "        show_sidebar=True,\n",
    "        full_screen=True,\n",
    "        allow_download=True,\n",
    "        stop_on_error=False\n",
    ")\n",
    "\n",
    "# checkbox to control code visibility\n",
    "show_code = mr.Checkbox(label=\"Show code\", value=True)\n",
    " \n",
    "# App object to set `show_code` attribute\n",
    "app = mr.App(title=\"Show or hide code\", show_code=show_code.value)"
   ]
  },
  {
   "cell_type": "code",
   "execution_count": null,
   "metadata": {},
   "outputs": [],
   "source": [
    "button = mr.Button(label=\"\", style=\"primary\")\n",
    " \n",
    "# after button clicked this will be true\n",
    "# but it will be true only once!\n",
    "if button.clicked:\n",
    "    print(\"Button clicked!\")\n",
    " \n",
    "# second read will return false\n",
    "if button.clicked:\n",
    "    print(\"It will not be printed!\")"
   ]
  },
  {
   "cell_type": "code",
   "execution_count": null,
   "metadata": {},
   "outputs": [],
   "source": [
    "# add checkbox\n",
    "my_flag = mr.Checkbox(value=True, label=\"Switch me\")\n",
    " \n",
    "# read checkbox value\n",
    "if my_flag.value:\n",
    "    print(\"Checkbox is ON\")\n",
    "else:\n",
    "    print(\"Checkbox is OFF\")"
   ]
  },
  {
   "cell_type": "code",
   "execution_count": null,
   "metadata": {},
   "outputs": [],
   "source": [
    "# add file upload widget\n",
    "my_file = mr.File(label=\"File upload\", max_file_size=\"100MB\")\n",
    " \n",
    "# get file path in the code and read its content\n",
    "print(f\"Let's read content of {my_file.filepath}\")\n",
    "with open(my_file.filepath, \"r\") as fin:\n",
    "    print(fin.read())\n",
    " \n",
    "# get file name\n",
    "print(f\"Thanks for uploading {my_file.filename}\")\n",
    " \n",
    "# get file content in binary format\n",
    "binary_content = my_file.value"
   ]
  },
  {
   "cell_type": "code",
   "execution_count": null,
   "metadata": {},
   "outputs": [],
   "source": [
    "\n",
    "# add Markdown note in the left sidebar in Mercury\n",
    "_ = mr.Note(text=\"Some **Markdown** text\")"
   ]
  },
  {
   "cell_type": "code",
   "execution_count": null,
   "metadata": {},
   "outputs": [],
   "source": [
    "# add numeric widget\n",
    "my_number = mr.Numeric(value=0, min=0, max=10, label=\"Your favourite number\", step=1)\n",
    "  \n",
    "# access widget value\n",
    "print(f\"Value is {my_number.value}\")"
   ]
  },
  {
   "cell_type": "code",
   "execution_count": null,
   "metadata": {},
   "outputs": [],
   "source": [
    "# add select widget\n",
    "my_selection = mr.Select(value=\"\", choices=[], label=\"\")\n",
    " \n",
    "# access selected values\n",
    "print(f\"Selected values are {my_selection.value}\")"
   ]
  },
  {
   "cell_type": "code",
   "execution_count": null,
   "metadata": {},
   "outputs": [],
   "source": [
    " \n",
    "# add slider widget\n",
    "your_slider = mr.Slider(value=5, min=0, max=10, label=\"Your favourite number\", step=1)\n",
    "# access widget value in the code\n",
    "print(f\"Your value is {your_slider.value}\")"
   ]
  },
  {
   "cell_type": "code",
   "execution_count": null,
   "metadata": {},
   "outputs": [],
   "source": [
    "# add text widget\n",
    "name = mr.Text(value=\"Piotr\", label=\"What is your name?\", rows=1)\n",
    "# use widget value in the code\n",
    "print(f\"Hello {name.value}!\")"
   ]
  },
  {
   "cell_type": "code",
   "execution_count": null,
   "metadata": {},
   "outputs": [],
   "source": [
    "# add range widget\n",
    "your_range = mr.Range(value=[1, 6], min=0, max=10, label=\"Your favourite range\", step=1)\n",
    "    \n",
    "# access widget value in the code\n",
    "print(f\"Your range starts at {your_range.value[0]} ends at {your_range.value[1]}\")"
   ]
  }
 ],
 "metadata": {
  "language_info": {
   "name": "python"
  },
  "orig_nbformat": 4
 },
 "nbformat": 4,
 "nbformat_minor": 2
}
